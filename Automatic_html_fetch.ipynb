{
 "cells": [
  {
   "cell_type": "code",
   "execution_count": 36,
   "metadata": {},
   "outputs": [],
   "source": [
    "from selenium import webdriver\n",
    "from selenium.webdriver.common.action_chains import ActionChains\n",
    "from selenium.webdriver.common.keys import Keys\n",
    "from selenium.common.exceptions import TimeoutException\n",
    "from selenium.webdriver.support.ui import WebDriverWait\n",
    "from selenium.webdriver.support import expected_conditions as EC\n",
    "from selenium.webdriver.common.by import By\n",
    "\n",
    "import pyautogui\n",
    "import time\n",
    "import os\n",
    "import os.path\n",
    "import shutil"
   ]
  },
  {
   "cell_type": "code",
   "execution_count": 37,
   "metadata": {},
   "outputs": [],
   "source": [
    "urls = ['http://www.google.com/', 'https://www.naver.com/', 'https://github.com/', 'https://www.youtube.com/']\n",
    "\n",
    "chrome_options = webdriver.ChromeOptions()\n",
    "#prefs = {\"download.default_directory\" : \"/Users/donghyuk/Desktop/work/{}\".format(url)}\n",
    "chrome_options.add_experimental_option(\"prefs\", {\n",
    "  \"download.default_directory\": r\"/Users/donghyuk/Desktop/work\",\n",
    "  \"download.prompt_for_download\": False,\n",
    "  \"download.directory_upgrade\": False,\n",
    "  \"safebrowsing.enabled\": True\n",
    "})\n",
    "\n",
    "i = 0\n",
    "\n",
    "for url in urls:\n",
    "    driver = webdriver.Chrome(options=chrome_options, executable_path='/Users/donghyuk/Desktop/chromedriver')\n",
    "    driver.get(url)\n",
    "    driver.implicitly_wait(100)\n",
    "    pyautogui.hotkey('command','s')\n",
    "    time.sleep(1)\n",
    "    pyautogui.typewrite('{}'.format(i))\n",
    "    pyautogui.press('enter')\n",
    "    \n",
    "    filename = '{}.html'.format(i)\n",
    "    src = '/Users/donghyuk/Downloads/'\n",
    "    dest = '/Users/donghyuk/Desktop/work/'\n",
    "    while not os.path.exists(src+filename):\n",
    "        time.sleep(1)\n",
    "        \n",
    "    shutil.move(src+filename, dest+filename)\n",
    "    i+=1\n",
    "    "
   ]
  }
 ],
 "metadata": {
  "kernelspec": {
   "display_name": "Python 3",
   "language": "python",
   "name": "python3"
  },
  "language_info": {
   "codemirror_mode": {
    "name": "ipython",
    "version": 3
   },
   "file_extension": ".py",
   "mimetype": "text/x-python",
   "name": "python",
   "nbconvert_exporter": "python",
   "pygments_lexer": "ipython3",
   "version": "3.7.10"
  }
 },
 "nbformat": 4,
 "nbformat_minor": 4
}
