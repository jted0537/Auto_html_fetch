{
 "cells": [
  {
   "cell_type": "code",
   "execution_count": 1,
   "metadata": {},
   "outputs": [],
   "source": [
    "from selenium import webdriver\n",
    "from selenium.webdriver.common.action_chains import ActionChains\n",
    "from selenium.webdriver.common.keys import Keys\n",
    "from selenium.common.exceptions import TimeoutException\n",
    "from selenium.webdriver.support.ui import WebDriverWait\n",
    "from selenium.webdriver.support import expected_conditions as EC\n",
    "from selenium.webdriver.common.by import By\n",
    "\n",
    "import pyautogui\n",
    "import time\n",
    "import os\n",
    "import os.path\n",
    "import shutil\n",
    "import pyperclip"
   ]
  },
  {
   "cell_type": "code",
   "execution_count": 18,
   "metadata": {},
   "outputs": [],
   "source": [
    "urls = [\"http://www.google.com/\", \"https://www.naver.com/\", \"https://github.com/\", \"https://www.youtube.com/\"]\n",
    "\n",
    "chrome_options = webdriver.ChromeOptions()\n",
    "chrome_options.add_experimental_option(\"prefs\", {\n",
    "  \"download.default_directory\": r\"/Users/donghyuk/Desktop/work\",\n",
    "  \"download.prompt_for_download\": False,\n",
    "  \"download.directory_upgrade\": False,\n",
    "  \"safebrowsing.enabled\": True\n",
    "})\n",
    "\n",
    "\n",
    "for url in urls:\n",
    "    # Chrome driver의 위치를 적어주시면 됩니다.\n",
    "    driver = webdriver.Chrome(options=chrome_options, executable_path='/Users/donghyuk/Desktop/chromedriver')\n",
    "    driver.get(url)\n",
    "    # Web loading time 최대 100sec\n",
    "    driver.implicitly_wait(100)\n",
    "    # MACOS : command/s, command/c-------------- Windows : ctrl/s, ctrl/c\n",
    "    pyautogui.hotkey('command','s')\n",
    "    time.sleep(1)\n",
    "    pyautogui.hotkey('command','c')\n",
    "    time.sleep(0.5)\n",
    "    # time sleep이 없다면 이전 명령어가 실행되기 이전에 다음 명령어가 실행될 수 있습니다. 만약 이런 현상이 발생한다면 time sleep을 늘려주세요.\n",
    "    pyautogui.press('enter')\n",
    "    name = pyperclip.paste()\n",
    "    \n",
    "    # path: 새로운 디렉토리를 만들어줄 경로를 설정해주시면 됩니다\n",
    "    path = '/Users/donghyuk/Desktop/work/{}'.format(name)\n",
    "    os.mkdir(path)\n",
    "    # src_file : chrome을 selenium을 통해서 돌릴 때 cmd/s때 기본적으로 저장되는 경로 + filename\n",
    "    src_file = '/Users/donghyuk/Downloads/{}.html'.format(name)\n",
    "    # dest_file : 이전에 만들어준 디렉토리의 경로 + filename\n",
    "    dest_file = '/Users/donghyuk/Desktop/work/{}/{}.html'.format(name, name)\n",
    "    # src_directory : 위와 동일 + directory_name\n",
    "    src_directory = '/Users/donghyuk/Downloads/{}_files'.format(name)\n",
    "    # dest_directory : 위와 동일 + directory_name\n",
    "    dest_directory = '/Users/donghyuk/Desktop/work/{}/{}_files'.format(name, name)\n",
    "    \n",
    "    \n",
    "    # 원하는 파일이 생성되기 이전까지 lock (files디렉토리는 생성이 되지 않는 경우도 있을 수 있어 file의 유무만 확인)\n",
    "    while not os.path.exists(src_file): # or not os.path.exists(src_directory): \n",
    "        time.sleep(1)    \n",
    "    \n",
    "    shutil.move(src_file, dest_file)\n",
    "    shutil.move(src_directory, dest_directory)\n",
    "    \n",
    "    "
   ]
  },
  {
   "cell_type": "markdown",
   "metadata": {},
   "source": []
  }
 ],
 "metadata": {
  "kernelspec": {
   "display_name": "Python 3",
   "language": "python",
   "name": "python3"
  },
  "language_info": {
   "codemirror_mode": {
    "name": "ipython",
    "version": 3
   },
   "file_extension": ".py",
   "mimetype": "text/x-python",
   "name": "python",
   "nbconvert_exporter": "python",
   "pygments_lexer": "ipython3",
   "version": "3.7.10"
  }
 },
 "nbformat": 4,
 "nbformat_minor": 4
}
